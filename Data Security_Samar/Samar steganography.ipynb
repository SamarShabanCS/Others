{
 "cells": [
  {
   "cell_type": "markdown",
   "metadata": {},
   "source": [
    "### First step: Text Steganography Algorithm"
   ]
  },
  {
   "cell_type": "code",
   "execution_count": 1,
   "metadata": {},
   "outputs": [],
   "source": [
    "def text_stegnog(text):\n",
    "    \n",
    "    res = ''.join(format(i, 'b') for i in bytearray(text, encoding ='utf-8'))     #coverting text into binary format\n",
    "    print(\"The string after binary conversion : \" + (res))   \n",
    "    length = len(res)\n",
    "    #print(length)\n",
    "    fake_secrit_msg=''    \n",
    "    file1 = open(\"test2.txt\",\"r\") \n",
    "    file2 = open(\"Steg.txt\",\"w+\") \n",
    "    \n",
    "    count = 0\n",
    "    while True:                 #Coverting the text file to steg file\n",
    "    # read line\n",
    "        data_letter = file1.read(1)\n",
    "        if (data_letter=='\\n'or data_letter==','or data_letter==' '):\n",
    "            continue\n",
    "            \n",
    "        else:\n",
    "            \n",
    "            data_letter=data_letter.lower()\n",
    "    \n",
    "            if(count<length):   \n",
    "                if(res[count]=='1'):    # if Current bit is one\n",
    "                    data_letter=data_letter.upper()   # First letter of line converted to uppercase\n",
    "                else:                    # if Current bit is one\n",
    "                    data_letter=data_letter.lower()   # First letter of line converted to uppercase\n",
    "                fake_secrit_msg=fake_secrit_msg+data_letter   \n",
    "            file2.write(data_letter)\n",
    "            count=count+1\n",
    "            if not data_letter:\n",
    "                break\n",
    "    return fake_secrit_msg          "
   ]
  },
  {
   "cell_type": "code",
   "execution_count": 2,
   "metadata": {},
   "outputs": [],
   "source": [
    "def text_desteg():\n",
    "    \n",
    "    crypto =''\n",
    "    file2 = open(\"Steg.txt\",\"r\") \n",
    "    while True:\n",
    "        data_letters = file2.read(1)\n",
    "        if not data_letters:\n",
    "            break\n",
    "        if(data_letters.isupper()):           #getting hidden message from text file by checking first letter in everyline is lower or upper case\n",
    "            crypto=crypto+'1'\n",
    "        else:\n",
    "            crypto=crypto+'0'\n",
    "      \n",
    "        \n",
    "        \n",
    "    #print(\"Encrypted Code Bits:\") \n",
    "   # print(crypto)\n",
    "    lengthcr = len(crypto)\n",
    "  #  print(lengthcr)\n",
    "     \n",
    "    first=''\n",
    "    for i in range(0, lengthcr,7):\n",
    "        num=0\n",
    "         \n",
    "        num=num+int(crypto[i+0])*64\n",
    "        if(i+1<lengthcr):\n",
    "            num=num+int(crypto[i+1])*32\n",
    "        if(i+2<lengthcr):\n",
    "            num=num+int(crypto[i+2])*16\n",
    "        if(i+3<lengthcr):\n",
    "            num=num+int(crypto[i+3])*8\n",
    "        if(i+4<lengthcr):\n",
    "            num=num+int(crypto[i+4])*4\n",
    "        if(i+5<lengthcr):\n",
    "            num=num+int(crypto[i+5])*2\n",
    "        if(i+6<lengthcr):\n",
    "            num=num+int(crypto[i+6])*1\n",
    "        if(num>64):\n",
    "            charac = chr(num)\n",
    "            first=first+charac\n",
    "        if(num==0):\n",
    "            break;\n",
    "        \n",
    "     \n",
    "    return first"
   ]
  },
  {
   "cell_type": "code",
   "execution_count": 3,
   "metadata": {},
   "outputs": [
    {
     "name": "stdout",
     "output_type": "stream",
     "text": [
      "The string after binary conversion : 1110000110000111100111110011111011111011111110010110010010100111100001110110111000011110010\n"
     ]
    },
    {
     "data": {
      "text/plain": [
       "'YOUdonoTDoyouDONOtdOANYMorEBLACkSHOEInWHICHIHavElIVedLikEaFooTFORthirTYYeARsPOOrandWHITebAr'"
      ]
     },
     "execution_count": 3,
     "metadata": {},
     "output_type": "execute_result"
    }
   ],
   "source": [
    "plaintext='passwordSamar' #secret message\n",
    "\n",
    "text_stegnog(plaintext)\n"
   ]
  },
  {
   "cell_type": "code",
   "execution_count": 4,
   "metadata": {},
   "outputs": [
    {
     "name": "stdout",
     "output_type": "stream",
     "text": [
      "Message After Uncovering File:  passwordSamar\n"
     ]
    }
   ],
   "source": [
    "fake_Mess=text_desteg() \n",
    "print(\"Message After Uncovering File: \",fake_Mess)"
   ]
  },
  {
   "cell_type": "markdown",
   "metadata": {},
   "source": [
    "### Second step: Image Steganography Algorithm"
   ]
  },
  {
   "cell_type": "code",
   "execution_count": 5,
   "metadata": {},
   "outputs": [],
   "source": [
    "from PIL import Image\n",
    "\n",
    "def image_stegnog(org_img,msg):\n",
    "    \n",
    "#Creating a image object   \n",
    "\n",
    "# Loading pixel values of original image, each entry is pixel value ie., RGB values as sublist\n",
    "    org_pixelMap = org_img.load()\n",
    "\n",
    "# Creating new image object with image mode and dimensions as that of original image\n",
    "    enc_img = Image.new( org_img.mode, org_img.size)\n",
    "    enc_pixelsMap = enc_img.load()\n",
    "\n",
    "# Reading message to be encrypted from user\n",
    "#msg=input(\"Enter the message :\\t\")\n",
    "    msg_index=0\n",
    "\n",
    "# Finding the lenght of message\n",
    "    msg_len=len(msg)\n",
    "\n",
    "# Traversing through the pixel values\n",
    "    for row in range(org_img.size[0]):\n",
    "        for col in range(org_img.size[1]):                    # Fetching RGB value a pixel to sublist\n",
    "            list=org_pixelMap[row,col] \n",
    "            r=list[0]           # R value\n",
    "            g=list[1]           # G value\n",
    "            b=list[2]           # B value\n",
    "      \n",
    "            if row==0 and col==0:                          # 1st pixel is used to store the lenght of message\n",
    "                ascii=msg_len\n",
    "                enc_pixelsMap[row,col] = (ascii,g,b)\n",
    "            elif msg_index<=msg_len:                  # Hiding our message inside the R values of the pixels\n",
    "                c=msg[msg_index-1]\n",
    "                ascii=ord(c)\n",
    "                enc_pixelsMap[row,col] = (ascii,g,b)\n",
    "            else:                                      # Assigning the pixel values of old image to new image\n",
    "                enc_pixelsMap[row,col] = (r,g,b)\n",
    "            msg_index+=1\n",
    "    \n",
    "\n",
    "# Display the image\n",
    "    enc_img.show()  \n",
    "\n",
    "# Save the image        \n",
    "    enc_img.save(\"encrypted_image.png\") \n",
    "    enc_img.close()\n",
    "    return enc_img\n"
   ]
  },
  {
   "cell_type": "code",
   "execution_count": 6,
   "metadata": {},
   "outputs": [],
   "source": [
    "\n",
    "def image_desteg(enc_img):\n",
    "# Creating an Image Object\n",
    "#enc_img = Image.open('encrypted_image.png')\n",
    "\n",
    "# Loading pixel values of original image, each entry is pixel value ie., RGB values as sublist\n",
    "    enc_pixelMap = enc_img.load()\n",
    "\n",
    "\n",
    "# Creating an empty String for our hidden message\n",
    "    msg = \"\"\n",
    "    msg_index = 0 \n",
    "\n",
    "\n",
    "# Traversing through the pixel values\n",
    "    for row in range(enc_img.size[0]):\n",
    "        for col in range(enc_img.size[1]):\n",
    "        \n",
    "\n",
    "    # Fetching RGB value a pixel to sublist\n",
    "            list = enc_pixelMap[row,col]\n",
    "            r = list[0]                              # R value\n",
    "\n",
    "            if col==0 and row==0:                    # 1st pixel was used to store the lenght of message\n",
    "                msg_len = r\n",
    "            \n",
    "            elif msg_len>msg_index:                 # Reading the message from R value of pixel\n",
    "                msg =msg+ chr(r)                    # Converting to character\n",
    "                msg_index = msg_index+1\n",
    "\n",
    "   \n",
    "\n",
    "    print (\"The hidden message is :\\n\\n\")\n",
    "    print (msg)\n",
    "    return msg\n",
    "\n"
   ]
  },
  {
   "cell_type": "code",
   "execution_count": 7,
   "metadata": {},
   "outputs": [
    {
     "name": "stdout",
     "output_type": "stream",
     "text": [
      "The string after binary conversion : 1110000110000111100111110011111011111011111110010110010010100111100001110110111000011110010\n"
     ]
    }
   ],
   "source": [
    "secure_msg='passwordSamar'\n",
    "cover_text='test.txt'\n",
    "cover_img = Image.open('flag fayoum.jpg')\n",
    "\n",
    "encrypted_image=image_stegnog(cover_img,text_stegnog(secure_msg))\n"
   ]
  },
  {
   "cell_type": "code",
   "execution_count": 8,
   "metadata": {},
   "outputs": [
    {
     "name": "stdout",
     "output_type": "stream",
     "text": [
      "The hidden message is :\n",
      "\n",
      "\n",
      "YOUdonoTDoyouDONOtdOANYMorEBLACkSHOEInWHICHIHavElIVedLikEaFooTFORthirTYYeARsPOOrandWHITebAr\n"
     ]
    }
   ],
   "source": [
    "enc_img = Image.open('encrypted_image.png')\n",
    "fake_massage=image_desteg(enc_img)\n"
   ]
  },
  {
   "cell_type": "code",
   "execution_count": 9,
   "metadata": {},
   "outputs": [
    {
     "name": "stdout",
     "output_type": "stream",
     "text": [
      "the secrit message is: passwordSamar\n"
     ]
    }
   ],
   "source": [
    "print('the secrit message is:', text_desteg())"
   ]
  },
  {
   "cell_type": "code",
   "execution_count": 10,
   "metadata": {},
   "outputs": [],
   "source": [
    "cover_img.close()\n",
    "enc_img.close()"
   ]
  },
  {
   "cell_type": "code",
   "execution_count": null,
   "metadata": {},
   "outputs": [],
   "source": []
  }
 ],
 "metadata": {
  "kernelspec": {
   "display_name": "Python 3",
   "language": "python",
   "name": "python3"
  },
  "language_info": {
   "codemirror_mode": {
    "name": "ipython",
    "version": 3
   },
   "file_extension": ".py",
   "mimetype": "text/x-python",
   "name": "python",
   "nbconvert_exporter": "python",
   "pygments_lexer": "ipython3",
   "version": "3.7.9"
  }
 },
 "nbformat": 4,
 "nbformat_minor": 4
}
