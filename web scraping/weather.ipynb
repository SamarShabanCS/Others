{
 "cells": [
  {
   "cell_type": "markdown",
   "id": "4db52551",
   "metadata": {},
   "source": [
    "\"\"\"\"\"\n",
    "Web Scraping is an automatic way to retrieve unstructured data from a website and store them in a structured format.\n",
    "\n",
    "Can you scrape from all the websites?\n",
    "\n",
    "Scraping makes the website traffic spike and may cause the breakdown of the website server. \n",
    "\n",
    "Thus, not all websites allow people to scrape. How do you know which websites are allowed or not? You can look at \n",
    "\n",
    "the ‘robots.txt’ file of the website. You just simply put robots.txt after the URL that you want to \n",
    "\n",
    "scrape and you will see information on whether the website host allows you to scrape the website.\n",
    "\n",
    "We can also search for items using CSS selectors. These selectors are how the CSS language allows developers to \n",
    "\n",
    "specify HTML tags to style. Here are some examples:\n",
    "\n",
    "p a — finds all a tags inside of a p tag.\n",
    "\n",
    "body p a — finds all a tags inside of a p tag inside of a body tag.\n",
    "\n",
    "html body — finds all body tags inside of an html tag.\n",
    "\n",
    "p.outer-text — finds all p tags with a class of outer-text.\n",
    "\n",
    "p#first — finds all p tags with an id of first.\n",
    "\n",
    "body p.outer-text — finds any p tags with a class of outer-text inside of a body tag.\n",
    "\n",
    "^^^Examples\n",
    "\n",
    "**BeautifulSoup objects support searching a page via CSS selectors using the select method. We can use CSS selectors \n",
    "\n",
    "to find all the p tags in our page that are inside of a div like this:\n",
    "\n",
    "==>soup.select(\"div p\")\n",
    "\n",
    "**search for elements by id:\n",
    "\n",
    "==>soup.find_all(id=\"first\")\n",
    "\n",
    "**look for any tag that has the class outer-text:\n",
    "\n",
    "==>soup.find_all(class_=\"outer-text\")\n",
    "\n",
    "**we can use the find_all method to search for items by class or by id. In the below example, we’ll search for any p \n",
    "\n",
    "tag that has the class outer-text:\n",
    "\n",
    "==>soup.find_all('p', class_='outer-text')\n",
    "\n",
    "**Note that find_all returns a list, so we’ll have to loop through, or use list indexing, it to extract text:\n",
    "\n",
    "==>soup.find_all('p')[0].get_text()\n",
    "\n",
    "**if you instead only want to find the first instance of a tag, you can use the find method, which will return a \n",
    "\n",
    "single BeautifulSoup object:\n",
    "\n",
    "==>soup.find('p')\n",
    "\"\"\""
   ]
  },
  {
   "cell_type": "code",
   "execution_count": null,
   "id": "97a95d59",
   "metadata": {},
   "outputs": [],
   "source": []
  },
  {
   "cell_type": "code",
   "execution_count": 1,
   "id": "19aff6a6",
   "metadata": {},
   "outputs": [],
   "source": [
    "from bs4 import BeautifulSoup, SoupStrainer\n",
    "import requests\n",
    "import pandas as pd\n",
    "import json"
   ]
  },
  {
   "cell_type": "code",
   "execution_count": 2,
   "id": "0f789910",
   "metadata": {},
   "outputs": [
    {
     "name": "stdout",
     "output_type": "stream",
     "text": [
      "<div class=\"tombstone-container\">\n",
      " <p class=\"period-name\">\n",
      "  Tonight\n",
      "  <br/>\n",
      "  <br/>\n",
      " </p>\n",
      " <p>\n",
      "  <img alt=\"Tonight: Increasing clouds, with a low around 59. Breezy, with a west wind 21 to 26 mph decreasing to 13 to 18 mph after midnight. Winds could gust as high as 33 mph. \" class=\"forecast-icon\" src=\"DualImage.php?i=nwind_few&amp;j=nsct\" title=\"Tonight: Increasing clouds, with a low around 59. Breezy, with a west wind 21 to 26 mph decreasing to 13 to 18 mph after midnight. Winds could gust as high as 33 mph. \"/>\n",
      " </p>\n",
      " <p class=\"short-desc\">\n",
      "  Mostly Clear\n",
      "  <br/>\n",
      "  and Breezy\n",
      "  <br/>\n",
      "  then Partly\n",
      "  <br/>\n",
      "  Cloudy\n",
      " </p>\n",
      " <p class=\"temp temp-low\">\n",
      "  Low: 59 °F\n",
      " </p>\n",
      "</div>\n"
     ]
    }
   ],
   "source": [
    "page = requests.get(\"https://forecast.weather.gov/MapClick.php?lat=37.7772&lon=-122.4168\")\n",
    "soup = BeautifulSoup(page.content, 'html.parser')\n",
    "seven_day = soup.find(id=\"seven-day-forecast\")\n",
    "forecast_items = seven_day.find_all(class_=\"tombstone-container\")\n",
    "tonight = forecast_items[0]\n",
    "print(tonight.prettify())"
   ]
  },
  {
   "cell_type": "code",
   "execution_count": 3,
   "id": "6fb1ca2f",
   "metadata": {},
   "outputs": [
    {
     "name": "stdout",
     "output_type": "stream",
     "text": [
      "Tonight\n",
      "Mostly Clearand Breezythen PartlyCloudy\n",
      "Low: 59 °F\n"
     ]
    }
   ],
   "source": [
    "\n",
    "period = tonight.find(class_=\"period-name\").get_text()\n",
    "short_desc = tonight.find(class_=\"short-desc\").get_text()\n",
    "temp = tonight.find(class_=\"temp\").get_text()\n",
    "print(period)\n",
    "print(short_desc)\n",
    "print(temp)"
   ]
  },
  {
   "cell_type": "code",
   "execution_count": 4,
   "id": "7437963b",
   "metadata": {},
   "outputs": [
    {
     "name": "stdout",
     "output_type": "stream",
     "text": [
      "Tonight: Increasing clouds, with a low around 59. Breezy, with a west wind 21 to 26 mph decreasing to 13 to 18 mph after midnight. Winds could gust as high as 33 mph. \n"
     ]
    }
   ],
   "source": [
    "\n",
    "img = tonight.find(\"img\")\n",
    "desc = img['title']\n",
    "print(desc)"
   ]
  },
  {
   "cell_type": "code",
   "execution_count": 5,
   "id": "135f3de2",
   "metadata": {},
   "outputs": [
    {
     "name": "stdout",
     "output_type": "stream",
     "text": [
      "['Tonight', 'Saturday', 'SaturdayNight', 'Sunday', 'SundayNight', 'Monday', 'MondayNight', 'Tuesday', 'TuesdayNight']\n"
     ]
    }
   ],
   "source": [
    "#Extracting all the information from the page\n",
    "period_tags = seven_day.select(\".tombstone-container .period-name\")\n",
    "periods = [pt.get_text() for pt in period_tags]\n",
    "print(periods)"
   ]
  },
  {
   "cell_type": "code",
   "execution_count": 6,
   "id": "6bd7fa3f",
   "metadata": {},
   "outputs": [
    {
     "name": "stdout",
     "output_type": "stream",
     "text": [
      "['Mostly Clearand Breezythen PartlyCloudy', 'Partly Sunny', 'Mostly Cloudy', 'Partly Sunny', 'Partly Cloudyand Breezythen PartlyCloudy', 'Mostly Sunnythen Sunnyand Breezy', 'Mostly Clearand Breezythen PartlyCloudy', 'Sunny', 'Partly Cloudy']\n"
     ]
    }
   ],
   "source": [
    "\n",
    "short_descs = [sd.get_text() for sd in seven_day.select(\".tombstone-container .short-desc\")]\n",
    "temps = [t.get_text() for t in seven_day.select(\".tombstone-container .temp\")]\n",
    "descs = [d[\"title\"] for d in seven_day.select(\".tombstone-container img\")]\n",
    "print(short_descs)"
   ]
  },
  {
   "cell_type": "code",
   "execution_count": 7,
   "id": "d3d71c72",
   "metadata": {},
   "outputs": [
    {
     "name": "stdout",
     "output_type": "stream",
     "text": [
      "['Low: 59 °F', 'High: 73 °F', 'Low: 61 °F', 'High: 75 °F', 'Low: 59 °F', 'High: 72 °F', 'Low: 58 °F', 'High: 70 °F', 'Low: 59 °F']\n"
     ]
    }
   ],
   "source": [
    "print(temps)"
   ]
  },
  {
   "cell_type": "code",
   "execution_count": 8,
   "id": "f9efb53d",
   "metadata": {},
   "outputs": [
    {
     "name": "stdout",
     "output_type": "stream",
     "text": [
      "['Tonight: Increasing clouds, with a low around 59. Breezy, with a west wind 21 to 26 mph decreasing to 13 to 18 mph after midnight. Winds could gust as high as 33 mph. ', 'Saturday: Partly sunny, with a high near 73. Southwest wind 9 to 18 mph, with gusts as high as 23 mph. ', 'Saturday Night: Mostly cloudy, with a low around 61. West wind 8 to 11 mph. ', 'Sunday: Partly sunny, with a high near 75. West wind 11 to 20 mph, with gusts as high as 24 mph. ', 'Sunday Night: Partly cloudy, with a low around 59. Breezy, with a west wind 15 to 22 mph, with gusts as high as 26 mph. ', 'Monday: Mostly sunny, with a high near 72. Breezy. ', 'Monday Night: Mostly clear, with a low around 58. Breezy. ', 'Tuesday: Sunny, with a high near 70.', 'Tuesday Night: Partly cloudy, with a low around 59.']\n"
     ]
    }
   ],
   "source": [
    "print(descs)"
   ]
  },
  {
   "cell_type": "code",
   "execution_count": 9,
   "id": "e7428133",
   "metadata": {},
   "outputs": [],
   "source": [
    "\n",
    "weather = pd.DataFrame({\n",
    "    \"period\": periods,\n",
    "    \"short_desc\": short_descs,\n",
    "    \"temp\": temps,\n",
    "    \"desc\": descs\n",
    "})"
   ]
  },
  {
   "cell_type": "code",
   "execution_count": 10,
   "id": "d8b25acb",
   "metadata": {},
   "outputs": [
    {
     "data": {
      "text/html": [
       "<div>\n",
       "<style scoped>\n",
       "    .dataframe tbody tr th:only-of-type {\n",
       "        vertical-align: middle;\n",
       "    }\n",
       "\n",
       "    .dataframe tbody tr th {\n",
       "        vertical-align: top;\n",
       "    }\n",
       "\n",
       "    .dataframe thead th {\n",
       "        text-align: right;\n",
       "    }\n",
       "</style>\n",
       "<table border=\"1\" class=\"dataframe\">\n",
       "  <thead>\n",
       "    <tr style=\"text-align: right;\">\n",
       "      <th></th>\n",
       "      <th>period</th>\n",
       "      <th>short_desc</th>\n",
       "      <th>temp</th>\n",
       "      <th>desc</th>\n",
       "    </tr>\n",
       "  </thead>\n",
       "  <tbody>\n",
       "    <tr>\n",
       "      <th>0</th>\n",
       "      <td>Tonight</td>\n",
       "      <td>Mostly Clearand Breezythen PartlyCloudy</td>\n",
       "      <td>Low: 59 °F</td>\n",
       "      <td>Tonight: Increasing clouds, with a low around ...</td>\n",
       "    </tr>\n",
       "    <tr>\n",
       "      <th>1</th>\n",
       "      <td>Saturday</td>\n",
       "      <td>Partly Sunny</td>\n",
       "      <td>High: 73 °F</td>\n",
       "      <td>Saturday: Partly sunny, with a high near 73. S...</td>\n",
       "    </tr>\n",
       "    <tr>\n",
       "      <th>2</th>\n",
       "      <td>SaturdayNight</td>\n",
       "      <td>Mostly Cloudy</td>\n",
       "      <td>Low: 61 °F</td>\n",
       "      <td>Saturday Night: Mostly cloudy, with a low arou...</td>\n",
       "    </tr>\n",
       "    <tr>\n",
       "      <th>3</th>\n",
       "      <td>Sunday</td>\n",
       "      <td>Partly Sunny</td>\n",
       "      <td>High: 75 °F</td>\n",
       "      <td>Sunday: Partly sunny, with a high near 75. Wes...</td>\n",
       "    </tr>\n",
       "    <tr>\n",
       "      <th>4</th>\n",
       "      <td>SundayNight</td>\n",
       "      <td>Partly Cloudyand Breezythen PartlyCloudy</td>\n",
       "      <td>Low: 59 °F</td>\n",
       "      <td>Sunday Night: Partly cloudy, with a low around...</td>\n",
       "    </tr>\n",
       "    <tr>\n",
       "      <th>5</th>\n",
       "      <td>Monday</td>\n",
       "      <td>Mostly Sunnythen Sunnyand Breezy</td>\n",
       "      <td>High: 72 °F</td>\n",
       "      <td>Monday: Mostly sunny, with a high near 72. Bre...</td>\n",
       "    </tr>\n",
       "    <tr>\n",
       "      <th>6</th>\n",
       "      <td>MondayNight</td>\n",
       "      <td>Mostly Clearand Breezythen PartlyCloudy</td>\n",
       "      <td>Low: 58 °F</td>\n",
       "      <td>Monday Night: Mostly clear, with a low around ...</td>\n",
       "    </tr>\n",
       "    <tr>\n",
       "      <th>7</th>\n",
       "      <td>Tuesday</td>\n",
       "      <td>Sunny</td>\n",
       "      <td>High: 70 °F</td>\n",
       "      <td>Tuesday: Sunny, with a high near 70.</td>\n",
       "    </tr>\n",
       "    <tr>\n",
       "      <th>8</th>\n",
       "      <td>TuesdayNight</td>\n",
       "      <td>Partly Cloudy</td>\n",
       "      <td>Low: 59 °F</td>\n",
       "      <td>Tuesday Night: Partly cloudy, with a low aroun...</td>\n",
       "    </tr>\n",
       "  </tbody>\n",
       "</table>\n",
       "</div>"
      ],
      "text/plain": [
       "          period                                short_desc         temp  \\\n",
       "0        Tonight   Mostly Clearand Breezythen PartlyCloudy   Low: 59 °F   \n",
       "1       Saturday                              Partly Sunny  High: 73 °F   \n",
       "2  SaturdayNight                             Mostly Cloudy   Low: 61 °F   \n",
       "3         Sunday                              Partly Sunny  High: 75 °F   \n",
       "4    SundayNight  Partly Cloudyand Breezythen PartlyCloudy   Low: 59 °F   \n",
       "5         Monday          Mostly Sunnythen Sunnyand Breezy  High: 72 °F   \n",
       "6    MondayNight   Mostly Clearand Breezythen PartlyCloudy   Low: 58 °F   \n",
       "7        Tuesday                                     Sunny  High: 70 °F   \n",
       "8   TuesdayNight                             Partly Cloudy   Low: 59 °F   \n",
       "\n",
       "                                                desc  \n",
       "0  Tonight: Increasing clouds, with a low around ...  \n",
       "1  Saturday: Partly sunny, with a high near 73. S...  \n",
       "2  Saturday Night: Mostly cloudy, with a low arou...  \n",
       "3  Sunday: Partly sunny, with a high near 75. Wes...  \n",
       "4  Sunday Night: Partly cloudy, with a low around...  \n",
       "5  Monday: Mostly sunny, with a high near 72. Bre...  \n",
       "6  Monday Night: Mostly clear, with a low around ...  \n",
       "7               Tuesday: Sunny, with a high near 70.  \n",
       "8  Tuesday Night: Partly cloudy, with a low aroun...  "
      ]
     },
     "execution_count": 10,
     "metadata": {},
     "output_type": "execute_result"
    }
   ],
   "source": [
    "weather"
   ]
  },
  {
   "cell_type": "code",
   "execution_count": 11,
   "id": "156a6d00",
   "metadata": {},
   "outputs": [
    {
     "name": "stdout",
     "output_type": "stream",
     "text": [
      "0    59\n",
      "1    73\n",
      "2    61\n",
      "3    75\n",
      "4    59\n",
      "5    72\n",
      "6    58\n",
      "7    70\n",
      "8    59\n",
      "Name: temp_num, dtype: object\n"
     ]
    }
   ],
   "source": [
    "import re\n",
    "temp_nums = weather[\"temp\"].str.extract(\"(?P<temp_num>\\d+)\", expand=False)\n",
    "weather[\"temp_num\"] = temp_nums.astype('int')\n",
    "print(temp_nums)\n"
   ]
  },
  {
   "cell_type": "code",
   "execution_count": 12,
   "id": "6890c5ea",
   "metadata": {},
   "outputs": [
    {
     "name": "stdout",
     "output_type": "stream",
     "text": [
      "65.11111111111111\n"
     ]
    }
   ],
   "source": [
    "print(weather[\"temp_num\"].mean())"
   ]
  },
  {
   "cell_type": "code",
   "execution_count": 13,
   "id": "0522e1fa",
   "metadata": {},
   "outputs": [
    {
     "name": "stdout",
     "output_type": "stream",
     "text": [
      "0     True\n",
      "1    False\n",
      "2     True\n",
      "3    False\n",
      "4     True\n",
      "5    False\n",
      "6     True\n",
      "7    False\n",
      "8     True\n",
      "Name: temp, dtype: bool\n"
     ]
    }
   ],
   "source": [
    "is_night = weather[\"temp\"].str.contains(\"Low\")\n",
    "weather[\"is_night\"] = is_night\n",
    "print(is_night)\n"
   ]
  },
  {
   "cell_type": "code",
   "execution_count": 14,
   "id": "803a448e",
   "metadata": {},
   "outputs": [
    {
     "name": "stdout",
     "output_type": "stream",
     "text": [
      "0     True\n",
      "1    False\n",
      "2     True\n",
      "3    False\n",
      "4     True\n",
      "5    False\n",
      "6     True\n",
      "7    False\n",
      "8     True\n",
      "Name: is_night, dtype: bool\n"
     ]
    }
   ],
   "source": [
    "print(weather[\"is_night\"])"
   ]
  },
  {
   "cell_type": "code",
   "execution_count": 15,
   "id": "518ce903",
   "metadata": {},
   "outputs": [
    {
     "name": "stdout",
     "output_type": "stream",
     "text": [
      "DataFrame is written to Excel File successfully.\n"
     ]
    }
   ],
   "source": [
    "file_name = 'WeatherData.xlsx'\n",
    "  \n",
    "# saving the excel\n",
    "weather.to_excel(file_name)\n",
    "print('DataFrame is written to Excel File successfully.')"
   ]
  },
  {
   "cell_type": "code",
   "execution_count": null,
   "id": "dbc34c2f",
   "metadata": {},
   "outputs": [],
   "source": []
  }
 ],
 "metadata": {
  "kernelspec": {
   "display_name": "Python 3 (ipykernel)",
   "language": "python",
   "name": "python3"
  },
  "language_info": {
   "codemirror_mode": {
    "name": "ipython",
    "version": 3
   },
   "file_extension": ".py",
   "mimetype": "text/x-python",
   "name": "python",
   "nbconvert_exporter": "python",
   "pygments_lexer": "ipython3",
   "version": "3.9.7"
  }
 },
 "nbformat": 4,
 "nbformat_minor": 5
}
